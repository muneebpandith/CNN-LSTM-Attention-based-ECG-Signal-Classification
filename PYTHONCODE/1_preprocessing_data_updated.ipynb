{
 "cells": [
  {
   "cell_type": "code",
   "execution_count": 330,
   "metadata": {
    "colab": {
     "base_uri": "https://localhost:8080/",
     "height": 122
    },
    "colab_type": "code",
    "id": "qWhfG1CLn1-Z",
    "outputId": "4cc0085a-6ee8-4c4a-a42d-062031c07fc3"
   },
   "outputs": [],
   "source": [
    "#from google.colab import drive\n",
    "#drive.mount('/content/drive')"
   ]
  },
  {
   "cell_type": "code",
   "execution_count": 331,
   "metadata": {
    "colab": {
     "base_uri": "https://localhost:8080/",
     "height": 544
    },
    "colab_type": "code",
    "id": "RgKbRY1H9jgK",
    "outputId": "123018a8-4ab9-43b8-8a0c-b7e5600eb0df"
   },
   "outputs": [],
   "source": [
    "#!pip install wfdb\n"
   ]
  },
  {
   "cell_type": "code",
   "execution_count": 332,
   "metadata": {
    "colab": {},
    "colab_type": "code",
    "id": "fvu3Ud0kmlkH"
   },
   "outputs": [],
   "source": [
    "import numpy as np, os, sys\n",
    "from scipy.io import loadmat\n",
    "import wfdb\n",
    "import matplotlib.pyplot as pp\n",
    "import pandas as pd\n",
    "import csv"
   ]
  },
  {
   "cell_type": "code",
   "execution_count": 333,
   "metadata": {
    "colab": {},
    "colab_type": "code",
    "id": "-bFQXP73mlkP"
   },
   "outputs": [],
   "source": [
    "def writetocsv(PATIENTSDATA,output_dir,csvfilename):\n",
    "    #cols=['ptID','Num_Leads','Sample_Fs','Lead_Name_1','Gain_Lead_1','Lead_Name_2','Gain_Lead_2','Lead_Name_3','Gain_Lead_3','Lead_Name_4','Gain_Lead_4','Lead_Name_5','Gain_Lead_5','Lead_Name_6','Gain_Lead_6','Lead_Name_7','Gain_Lead_7','Lead_Name_8','Gain_Lead_8','Lead_Name_9','Gain_Lead_9','Lead_Name_10','Gain_Lead_10','Lead_Name_11','Gain_Lead_11','Lead_Name_12','Gain_Lead_12','Age','Sex','SNOMED_Label_ID','Label_Name','Label_Abbvreviated']\n",
    "    \n",
    "    #ptDATA_Df= pd.DataFrame(PATIENTSDATA, columns=cols).T\n",
    "    \n",
    "    \n",
    "    with open(output_dir+\"/../CSV/\"+\"/\"+csvfilename,'a') as f1:\n",
    "        writer=csv.writer(f1, delimiter=',',lineterminator='\\n',)\n",
    "        writer.writerow(PATIENTSDATA)\n",
    "    f1.close()"
   ]
  },
  {
   "cell_type": "code",
   "execution_count": 334,
   "metadata": {
    "colab": {},
    "colab_type": "code",
    "id": "sDoLOc1wmlkU"
   },
   "outputs": [],
   "source": [
    "def returnlistofcsvfile(output_dir,csvfilename):\n",
    "    savingto=output_dir+\"/../CSV/\"+\"/\"+csvfilename\n",
    "    filelist=list()\n",
    "    \n",
    "    if not os.path.exists(savingto):\n",
    "        return \"\"\n",
    "    else:\n",
    "        with open(savingto,'r') as f1:\n",
    "            reader = csv.reader(f1, delimiter=',')\n",
    "            included_cols = [1]\n",
    "            for row in reader:\n",
    "                if not str(row[0]) ==\"ptID\":\n",
    "                    filelist.append(str(row[0])+\".mat\")\n",
    "        f1.close()\n",
    "        return filelist"
   ]
  },
  {
   "cell_type": "code",
   "execution_count": 335,
   "metadata": {
    "colab": {},
    "colab_type": "code",
    "id": "ArMfpj9JmlkZ"
   },
   "outputs": [],
   "source": [
    "def writeheadertocsvonce(output_dir, csvfilename):\n",
    "    cols=['ptID','Num_Leads','Sample_Fs','Lead_Name_1','Gain_Lead_1','Lead_Name_2','Gain_Lead_2','Lead_Name_3','Gain_Lead_3','Lead_Name_4','Gain_Lead_4','Lead_Name_5','Gain_Lead_5','Lead_Name_6','Gain_Lead_6','Lead_Name_7','Gain_Lead_7','Lead_Name_8','Gain_Lead_8','Lead_Name_9','Gain_Lead_9','Lead_Name_10','Gain_Lead_10','Lead_Name_11','Gain_Lead_11','Lead_Name_12','Gain_Lead_12','Age','Sex','Length_ECG','SNOMED_Label_ID','Label_Name','Label_Abbvreviated']\n",
    "    savingto= output_dir+\"/../CSV/\"+\"/\"+csvfilename\n",
    "    if not os.path.exists(savingto):\n",
    "        with open(savingto,'w') as f1:\n",
    "            writer=csv.writer(f1, delimiter=',',lineterminator='\\n',)\n",
    "            writer.writerow(cols)\n",
    "        f1.close()"
   ]
  },
  {
   "cell_type": "code",
   "execution_count": 336,
   "metadata": {
    "colab": {},
    "colab_type": "code",
    "id": "IizAZoGbmlke"
   },
   "outputs": [],
   "source": [
    "def makealldirectoriesatonce(output_directory,actual_labels,classes,csvfilename):\n",
    "    lead_names=['I','II','III','aVR','aVL','aVF','V1', 'V2', 'V3', 'V4','V5','V6']\n",
    "    tmp_class_names=list(actual_labels.values())\n",
    "    \n",
    "    #print(tmp_class_names)\n",
    "    #print(actual_labels)\n",
    "    if not os.path.isdir(output_directory):\n",
    "        os.mkdir(output_directory)\n",
    "    if not os.path.isdir(output_directory +\"/../CSV\"):\n",
    "        os.mkdir(output_directory+\"/../CSV\")\n",
    "    \n",
    "    \n",
    "    writeheadertocsvonce(output_directory,csvfilename)\n",
    "    \n",
    "    for i in range(len(lead_names)):\n",
    "        if not os.path.isdir(output_directory+\"/\"+str(lead_names[i])):\n",
    "            os.mkdir(output_directory+\"/\"+str(lead_names[i]))\n",
    "            for ii in range(len(tmp_class_names)):\n",
    "                if not os.path.isdir(output_directory+\"/\"+str(lead_names[i])+\"/\"+str(tmp_class_names[ii])):\n",
    "                    os.mkdir(output_directory+\"/\"+str(lead_names[i])+\"/\"+str(tmp_class_names[ii]))\n"
   ]
  },
  {
   "cell_type": "code",
   "execution_count": 337,
   "metadata": {
    "colab": {},
    "colab_type": "code",
    "id": "wPniE_UVmlkj"
   },
   "outputs": [],
   "source": [
    "def drawandsavefig(PTDETAILSDATA, data, output_directory):\n",
    "    leads=list()\n",
    "    ptID=str(PTDETAILSDATA[0])\n",
    "    num_leads=int(PTDETAILSDATA[1])\n",
    "    for i in range(num_leads):\n",
    "        \n",
    "        leads.append(PTDETAILSDATA[2*i+3])\n",
    "        newdir=output_directory+\"/\"+ str(leads[i])+\"/\"+str(PTDETAILSDATA[-1])\n",
    "        savingto=newdir+\"/\"+ptID+\"_\"+str(leads[i])+\".jpg\"\n",
    "        if not os.path.exists(savingto):\n",
    "            x=pp.figure(num=None, figsize=(4, 4), dpi=300, facecolor='w', edgecolor='k')\n",
    "            pp.axis('off')\n",
    "            pp.grid(False)\n",
    "            \n",
    "            #print(\"Length: \"+ str(len(data[i])))\n",
    "            pp.plot(data[i][:2000], \"k\")\n",
    "            pp.savefig(savingto,dpi=300)\n",
    "            #print(\"Saved to: \"+ savingto)\n",
    "            pp.close(x)\n",
    "        #pp.show()\n",
    "        "
   ]
  },
  {
   "cell_type": "code",
   "execution_count": null,
   "metadata": {
    "colab": {},
    "colab_type": "code",
    "id": "Dd7J9wUQmlko"
   },
   "outputs": [],
   "source": []
  },
  {
   "cell_type": "code",
   "execution_count": 338,
   "metadata": {
    "colab": {},
    "colab_type": "code",
    "id": "KAsxtsnsmlkv"
   },
   "outputs": [],
   "source": [
    "def load_data(filename):\n",
    "    x = loadmat(filename)\n",
    "    data = np.asarray(x['val'], dtype=np.float64)\n",
    "\n",
    "    new_file = filename.replace('.mat','.hea')\n",
    "    input_header_file = os.path.join(new_file)\n",
    "\n",
    "    with open(input_header_file,'r') as f:\n",
    "        header_data=f.readlines()\n",
    "    return data, header_data"
   ]
  },
  {
   "cell_type": "code",
   "execution_count": 339,
   "metadata": {
    "colab": {},
    "colab_type": "code",
    "id": "3-mldMV5mlkz"
   },
   "outputs": [],
   "source": [
    "def getactuallabels(classes):\n",
    "    dictclasses={'164884008':'Premature Ventricular Complexes', '164889003':'Atrial Fibrillation', '164909002':'Left Bundle Branch Block', '164931005':'ST Elevation', '270492004':'1st Degree AV Block', '284470004':'Premature Atrial Contraction', '426783006':'Sinus Rhythm', '429622005':'ST Depression', '59118001':'Right Bundle Branch Block'}\n",
    "    dictclasses_abrevated={'164884008':'PVC', '164889003':'AF', '164909002':'LBBB', '164931005':'STE', '270492004':'IAVB', '284470004':'PAC', '426783006':'SNR', '429622005':'STD', '59118001':'RBBB'}\n",
    "    '''for label in classes:\n",
    "        #print(label)\n",
    "        print(dictclasses_abrevated[str(label)] + \" : \" + dictclasses[str(label)])\n",
    "    '''\n",
    "    return dictclasses, dictclasses_abrevated"
   ]
  },
  {
   "cell_type": "code",
   "execution_count": null,
   "metadata": {
    "colab": {},
    "colab_type": "code",
    "id": "0m2zaAfCmlk4"
   },
   "outputs": [],
   "source": []
  },
  {
   "cell_type": "code",
   "execution_count": 340,
   "metadata": {
    "colab": {},
    "colab_type": "code",
    "id": "oE6hFhzgmlk8"
   },
   "outputs": [],
   "source": [
    "def get_classes(input_directory,files):\n",
    "    classes=set()\n",
    "    for f in files:\n",
    "        g = f.replace('.mat','.hea')\n",
    "        input_file = os.path.join(input_directory,g)\n",
    "        with open(input_file,'r') as f:\n",
    "            for lines in f:\n",
    "                if lines.startswith('#Dx'):\n",
    "                    tmp = lines.split(': ')[1].split(',')\n",
    "                    for c in tmp:\n",
    "                        classes.add(c.strip())\n",
    "    return sorted(classes)"
   ]
  },
  {
   "cell_type": "code",
   "execution_count": 341,
   "metadata": {
    "colab": {},
    "colab_type": "code",
    "id": "gwgT6fUqmllB"
   },
   "outputs": [],
   "source": [
    "def get_12ECG_features(tmp_input_file, data, header_data):\n",
    "\n",
    "    ptDetails=list()\n",
    "    gainLeadDetails=list()\n",
    "    \n",
    "    tmp_hea = header_data[0].split(' ')\n",
    "    \n",
    "    ptID = tmp_hea[0]\n",
    "    ptDetails.append(ptID)\n",
    "    num_leads = int(tmp_hea[1])\n",
    "    ptDetails.append(num_leads)\n",
    "    sample_Fs= int(tmp_hea[2])\n",
    "    ptDetails.append(sample_Fs)\n",
    "    \n",
    "    \n",
    "    gain_lead = np.zeros(num_leads)\n",
    "    #ptDetails.append(gain_lead)\n",
    "    for ii in range(num_leads):\n",
    "        tmp_hea = header_data[ii+1].split(' ')\n",
    "        gain_lead[ii] = int(tmp_hea[2].split('/')[0])\n",
    "        lead_no= str(tmp_hea[8]).strip()\n",
    "        ptDetails.append(lead_no)\n",
    "        ptDetails.append(gain_lead[ii])\n",
    "        \n",
    "    # for testing, we included the mean age of 57 if the age is a NaN\n",
    "    # This value will change as more data is being released\n",
    "    for iline in header_data:\n",
    "        if iline.startswith('#Age'):\n",
    "            tmp_age = iline.split(': ')[1].strip()\n",
    "            age = int(tmp_age if tmp_age != 'NaN' else 57)\n",
    "            ptDetails.append(age)\n",
    "        elif iline.startswith('#Sex'):\n",
    "            tmp_sex = iline.split(': ')[1]\n",
    "            if tmp_sex.strip()=='Female':\n",
    "                sex=1\n",
    "            else:\n",
    "                sex=0\n",
    "            ptDetails.append(sex)\n",
    "        elif iline.startswith('#Dx'):\n",
    "            label = iline.split(': ')[1].split(',')[0].strip()\n",
    "            ptDetails.append(len(data[0]))\n",
    "            ptDetails.append(label)\n",
    "            \n",
    "            \n",
    "            #ptDetails.append()\n",
    "    #ptDetails.append(tmp_input_file, ptID,label,num_leads,sample_Fs, gain_lead,age,sex,gainLeadDetails)\n",
    "    return ptDetails\n"
   ]
  },
  {
   "cell_type": "code",
   "execution_count": null,
   "metadata": {
    "colab": {},
    "colab_type": "code",
    "id": "_HFsBmwxmllJ"
   },
   "outputs": [],
   "source": []
  },
  {
   "cell_type": "code",
   "execution_count": 342,
   "metadata": {
    "colab": {},
    "colab_type": "code",
    "id": "APdftlLemllN"
   },
   "outputs": [],
   "source": [
    "def main():\n",
    "    \n",
    "    \n",
    "    DRAW_SAVE_ONLY_IMPORTANT_PICS=1\n",
    "    TO_DRAW_PICS=list()\n",
    "    DRAWN_PICS=list()\n",
    "    \n",
    "    \n",
    "    #classes=get_classes(input_directory,input_files)\n",
    "    classes= ['164884008', '164889003', '164909002', '164931005', '270492004', '284470004', '426783006', '429622005', '59118001']\n",
    "    #print(classes)\n",
    "    actual_label=getactuallabels(classes)\n",
    "    #print(actual_label[0])\n",
    "    \n",
    "    \n",
    "    \n",
    "    input_directory=\"../DATA/Training_WFDB\"\n",
    "    output_directory=\"../DATA/Training_IMAGES_Classed_Trimmed_0_2\"\n",
    "    csvfilename=\"1.PATIENT_HEADER.csv\"\n",
    "    \n",
    "    makealldirectoriesatonce(output_directory,actual_label[1],classes,csvfilename)\n",
    "    \n",
    "    \n",
    "    #data=readfile(\"AOOO.mat\")\n",
    "    #header_data=readfile(\"A0000.hea\")\n",
    "    input_files = []\n",
    "    \n",
    "    alreadyprocessed_input_files=returnlistofcsvfile(output_directory,csvfilename)\n",
    "    \n",
    "    for f in os.listdir(input_directory):\n",
    "        if os.path.isfile(os.path.join(input_directory, f)) and not f.lower().startswith('.') and f.lower().endswith('mat'):\n",
    "            if f not in alreadyprocessed_input_files:\n",
    "                input_files.append(f)\n",
    "    \n",
    "    \n",
    "    print(\"Noof input files remaining  :\" + str(len(set(input_files))))\n",
    "    print(\"Noof input files processed  :\" + str(len(set(alreadyprocessed_input_files))))\n",
    "        \n",
    "    '''\n",
    "    if not alreadyprocessed_input_files == \"\":\n",
    "        print(\"Noof input files processed:\" + str(len( alreadyprocessed_input_files)))\n",
    "        #print(input_files)\n",
    "        \n",
    "        set_input_files=set(input_files) - set(alreadyprocessed_input_files)\n",
    "        #print(set_input_files)\n",
    "        \n",
    "        input_files = list(set_input_files)\n",
    "        #print(list(set_input_files))\n",
    "    print(\"Noof input files remaining:\" + str(len(input_files)))\n",
    "    '''\n",
    "    \n",
    "    num_files = len(input_files)\n",
    "    \n",
    "    \n",
    "    \n",
    "    for label in classes:\n",
    "        break\n",
    "        #actual label\n",
    "        #print(actual_label[0][str(label)])\n",
    "        #abrevated label\n",
    "        #print(actual_label[1][str(label)])\n",
    "    \n",
    "    \n",
    "    \n",
    "    for i, f in enumerate(input_files):\n",
    "        #print('    {}/{}...'.format(i+1, num_files))\n",
    "        tmp_input_file = os.path.join(input_directory,f)\n",
    "        \n",
    "        \n",
    "        data,header_data = load_data(tmp_input_file)\n",
    "        PTDETAILSDATA=get_12ECG_features(tmp_input_file, data, header_data)\n",
    "        PTDETAILSDATA.append(actual_label[0][str(PTDETAILSDATA[-1])])\n",
    "        PTDETAILSDATA.append(actual_label[1][str(PTDETAILSDATA[-2])])\n",
    "        \n",
    "        print(\"DONE:\" + PTDETAILSDATA[0])\n",
    "        drawandsavefig(PTDETAILSDATA,data,output_directory)\n",
    "        writetocsv(PTDETAILSDATA, output_directory,csvfilename)\n",
    "        #print(header_data)\n",
    "        \n",
    "        \n",
    "        #annotation = wfdb.rdann(tmp_input_file.replace('.hea',''), 'atr', sampto=3000)\n",
    "        #wfdb.plotrec(record, annotation = \" \",title='Record 100 from MIT-BIH Arrhythmia Database',timeunits = 'seconds', figsize = (10,4), ecggrids = 'all')\n",
    "    \n",
    "        \n"
   ]
  },
  {
   "cell_type": "code",
   "execution_count": 343,
   "metadata": {
    "colab": {},
    "colab_type": "code",
    "id": "gOj_mgLUmllR"
   },
   "outputs": [],
   "source": [
    "def drawandsavefig_temp(PTDETAILSDATA, data, output_directory):\n",
    "    leads=list()\n",
    "    ptID=str(PTDETAILSDATA[0])\n",
    "    num_leads=int(PTDETAILSDATA[1])\n",
    "    \n",
    "    \n",
    "    for i in range(num_leads):\n",
    "        \n",
    "        leads.append(PTDETAILSDATA[2*i+3])\n",
    "        newdir=output_directory+\"/\"+ str(leads[i])+\"/\"+str(PTDETAILSDATA[-1])\n",
    "        savingto=newdir+\"/\"+ptID+\"_\"+str(leads[i])+\".jpg\"\n",
    "        \n",
    "        print(\"Saving to: \"+ savingto)\n",
    "        \n",
    "        pp.figure(num=None, figsize=(14, 6), dpi=300, facecolor='w', edgecolor='k')\n",
    "        pp.axis('off')\n",
    "        pp.plot(data[i][:2000])\n",
    "        pp.show()\n",
    "        pp.savefig(newdir+\"/\"+\"\")"
   ]
  },
  {
   "cell_type": "code",
   "execution_count": null,
   "metadata": {
    "colab": {},
    "colab_type": "code",
    "id": "HIMSDJ-OmllW"
   },
   "outputs": [],
   "source": []
  },
  {
   "cell_type": "code",
   "execution_count": 344,
   "metadata": {
    "colab": {},
    "colab_type": "code",
    "id": "RYXa23Gemlla",
    "outputId": "fb8d11ab-d047-4cf6-d0a1-3ecabfe35715",
    "scrolled": true
   },
   "outputs": [
    {
     "name": "stdout",
     "output_type": "stream",
     "text": [
      "Noof input files remaining  :6877\n",
      "Noof input files processed  :0\n",
      "DONE:A6032\n",
      "DONE:A6857\n",
      "DONE:A0144\n",
      "DONE:A5250\n"
     ]
    },
    {
     "ename": "KeyboardInterrupt",
     "evalue": "",
     "output_type": "error",
     "traceback": [
      "\u001b[0;31m---------------------------------------------------------------------------\u001b[0m",
      "\u001b[0;31mKeyboardInterrupt\u001b[0m                         Traceback (most recent call last)",
      "\u001b[0;32m<ipython-input-344-8a368ce6202b>\u001b[0m in \u001b[0;36m<module>\u001b[0;34m\u001b[0m\n\u001b[1;32m      1\u001b[0m \u001b[0;32mif\u001b[0m \u001b[0m__name__\u001b[0m\u001b[0;34m==\u001b[0m\u001b[0;34m\"__main__\"\u001b[0m\u001b[0;34m:\u001b[0m\u001b[0;34m\u001b[0m\u001b[0;34m\u001b[0m\u001b[0m\n\u001b[0;32m----> 2\u001b[0;31m     \u001b[0mmain\u001b[0m\u001b[0;34m(\u001b[0m\u001b[0;34m)\u001b[0m\u001b[0;34m\u001b[0m\u001b[0;34m\u001b[0m\u001b[0m\n\u001b[0m\u001b[1;32m      3\u001b[0m     \u001b[0mprint\u001b[0m\u001b[0;34m(\u001b[0m\u001b[0;34m\"100% Complete\"\u001b[0m\u001b[0;34m)\u001b[0m\u001b[0;34m\u001b[0m\u001b[0;34m\u001b[0m\u001b[0m\n",
      "\u001b[0;32m<ipython-input-342-26227943c913>\u001b[0m in \u001b[0;36mmain\u001b[0;34m()\u001b[0m\n\u001b[1;32m     74\u001b[0m \u001b[0;34m\u001b[0m\u001b[0m\n\u001b[1;32m     75\u001b[0m         \u001b[0mprint\u001b[0m\u001b[0;34m(\u001b[0m\u001b[0;34m\"DONE:\"\u001b[0m \u001b[0;34m+\u001b[0m \u001b[0mPTDETAILSDATA\u001b[0m\u001b[0;34m[\u001b[0m\u001b[0;36m0\u001b[0m\u001b[0;34m]\u001b[0m\u001b[0;34m)\u001b[0m\u001b[0;34m\u001b[0m\u001b[0;34m\u001b[0m\u001b[0m\n\u001b[0;32m---> 76\u001b[0;31m         \u001b[0mdrawandsavefig\u001b[0m\u001b[0;34m(\u001b[0m\u001b[0mPTDETAILSDATA\u001b[0m\u001b[0;34m,\u001b[0m\u001b[0mdata\u001b[0m\u001b[0;34m,\u001b[0m\u001b[0moutput_directory\u001b[0m\u001b[0;34m)\u001b[0m\u001b[0;34m\u001b[0m\u001b[0;34m\u001b[0m\u001b[0m\n\u001b[0m\u001b[1;32m     77\u001b[0m         \u001b[0mwritetocsv\u001b[0m\u001b[0;34m(\u001b[0m\u001b[0mPTDETAILSDATA\u001b[0m\u001b[0;34m,\u001b[0m \u001b[0moutput_directory\u001b[0m\u001b[0;34m,\u001b[0m\u001b[0mcsvfilename\u001b[0m\u001b[0;34m)\u001b[0m\u001b[0;34m\u001b[0m\u001b[0;34m\u001b[0m\u001b[0m\n\u001b[1;32m     78\u001b[0m         \u001b[0;31m#print(header_data)\u001b[0m\u001b[0;34m\u001b[0m\u001b[0;34m\u001b[0m\u001b[0;34m\u001b[0m\u001b[0m\n",
      "\u001b[0;32m<ipython-input-337-9c580aef6ab4>\u001b[0m in \u001b[0;36mdrawandsavefig\u001b[0;34m(PTDETAILSDATA, data, output_directory)\u001b[0m\n\u001b[1;32m     15\u001b[0m             \u001b[0;31m#print(\"Length: \"+ str(len(data[i])))\u001b[0m\u001b[0;34m\u001b[0m\u001b[0;34m\u001b[0m\u001b[0;34m\u001b[0m\u001b[0m\n\u001b[1;32m     16\u001b[0m             \u001b[0mpp\u001b[0m\u001b[0;34m.\u001b[0m\u001b[0mplot\u001b[0m\u001b[0;34m(\u001b[0m\u001b[0mdata\u001b[0m\u001b[0;34m[\u001b[0m\u001b[0mi\u001b[0m\u001b[0;34m]\u001b[0m\u001b[0;34m[\u001b[0m\u001b[0;34m:\u001b[0m\u001b[0;36m2000\u001b[0m\u001b[0;34m]\u001b[0m\u001b[0;34m,\u001b[0m \u001b[0;34m\"k\"\u001b[0m\u001b[0;34m)\u001b[0m\u001b[0;34m\u001b[0m\u001b[0;34m\u001b[0m\u001b[0m\n\u001b[0;32m---> 17\u001b[0;31m             \u001b[0mpp\u001b[0m\u001b[0;34m.\u001b[0m\u001b[0msavefig\u001b[0m\u001b[0;34m(\u001b[0m\u001b[0msavingto\u001b[0m\u001b[0;34m,\u001b[0m\u001b[0mdpi\u001b[0m\u001b[0;34m=\u001b[0m\u001b[0;36m300\u001b[0m\u001b[0;34m)\u001b[0m\u001b[0;34m\u001b[0m\u001b[0;34m\u001b[0m\u001b[0m\n\u001b[0m\u001b[1;32m     18\u001b[0m             \u001b[0;31m#print(\"Saved to: \"+ savingto)\u001b[0m\u001b[0;34m\u001b[0m\u001b[0;34m\u001b[0m\u001b[0;34m\u001b[0m\u001b[0m\n\u001b[1;32m     19\u001b[0m             \u001b[0mpp\u001b[0m\u001b[0;34m.\u001b[0m\u001b[0mclose\u001b[0m\u001b[0;34m(\u001b[0m\u001b[0mx\u001b[0m\u001b[0;34m)\u001b[0m\u001b[0;34m\u001b[0m\u001b[0;34m\u001b[0m\u001b[0m\n",
      "\u001b[0;32m~/anaconda3/envs/py36/lib/python3.6/site-packages/matplotlib/pyplot.py\u001b[0m in \u001b[0;36msavefig\u001b[0;34m(*args, **kwargs)\u001b[0m\n\u001b[1;32m    721\u001b[0m \u001b[0;32mdef\u001b[0m \u001b[0msavefig\u001b[0m\u001b[0;34m(\u001b[0m\u001b[0;34m*\u001b[0m\u001b[0margs\u001b[0m\u001b[0;34m,\u001b[0m \u001b[0;34m**\u001b[0m\u001b[0mkwargs\u001b[0m\u001b[0;34m)\u001b[0m\u001b[0;34m:\u001b[0m\u001b[0;34m\u001b[0m\u001b[0;34m\u001b[0m\u001b[0m\n\u001b[1;32m    722\u001b[0m     \u001b[0mfig\u001b[0m \u001b[0;34m=\u001b[0m \u001b[0mgcf\u001b[0m\u001b[0;34m(\u001b[0m\u001b[0;34m)\u001b[0m\u001b[0;34m\u001b[0m\u001b[0;34m\u001b[0m\u001b[0m\n\u001b[0;32m--> 723\u001b[0;31m     \u001b[0mres\u001b[0m \u001b[0;34m=\u001b[0m \u001b[0mfig\u001b[0m\u001b[0;34m.\u001b[0m\u001b[0msavefig\u001b[0m\u001b[0;34m(\u001b[0m\u001b[0;34m*\u001b[0m\u001b[0margs\u001b[0m\u001b[0;34m,\u001b[0m \u001b[0;34m**\u001b[0m\u001b[0mkwargs\u001b[0m\u001b[0;34m)\u001b[0m\u001b[0;34m\u001b[0m\u001b[0;34m\u001b[0m\u001b[0m\n\u001b[0m\u001b[1;32m    724\u001b[0m     \u001b[0mfig\u001b[0m\u001b[0;34m.\u001b[0m\u001b[0mcanvas\u001b[0m\u001b[0;34m.\u001b[0m\u001b[0mdraw_idle\u001b[0m\u001b[0;34m(\u001b[0m\u001b[0;34m)\u001b[0m   \u001b[0;31m# need this if 'transparent=True' to reset colors\u001b[0m\u001b[0;34m\u001b[0m\u001b[0;34m\u001b[0m\u001b[0m\n\u001b[1;32m    725\u001b[0m     \u001b[0;32mreturn\u001b[0m \u001b[0mres\u001b[0m\u001b[0;34m\u001b[0m\u001b[0;34m\u001b[0m\u001b[0m\n",
      "\u001b[0;32m~/anaconda3/envs/py36/lib/python3.6/site-packages/matplotlib/figure.py\u001b[0m in \u001b[0;36msavefig\u001b[0;34m(self, fname, transparent, **kwargs)\u001b[0m\n\u001b[1;32m   2201\u001b[0m             \u001b[0mself\u001b[0m\u001b[0;34m.\u001b[0m\u001b[0mpatch\u001b[0m\u001b[0;34m.\u001b[0m\u001b[0mset_visible\u001b[0m\u001b[0;34m(\u001b[0m\u001b[0mframeon\u001b[0m\u001b[0;34m)\u001b[0m\u001b[0;34m\u001b[0m\u001b[0;34m\u001b[0m\u001b[0m\n\u001b[1;32m   2202\u001b[0m \u001b[0;34m\u001b[0m\u001b[0m\n\u001b[0;32m-> 2203\u001b[0;31m         \u001b[0mself\u001b[0m\u001b[0;34m.\u001b[0m\u001b[0mcanvas\u001b[0m\u001b[0;34m.\u001b[0m\u001b[0mprint_figure\u001b[0m\u001b[0;34m(\u001b[0m\u001b[0mfname\u001b[0m\u001b[0;34m,\u001b[0m \u001b[0;34m**\u001b[0m\u001b[0mkwargs\u001b[0m\u001b[0;34m)\u001b[0m\u001b[0;34m\u001b[0m\u001b[0;34m\u001b[0m\u001b[0m\n\u001b[0m\u001b[1;32m   2204\u001b[0m \u001b[0;34m\u001b[0m\u001b[0m\n\u001b[1;32m   2205\u001b[0m         \u001b[0;32mif\u001b[0m \u001b[0mframeon\u001b[0m\u001b[0;34m:\u001b[0m\u001b[0;34m\u001b[0m\u001b[0;34m\u001b[0m\u001b[0m\n",
      "\u001b[0;32m~/anaconda3/envs/py36/lib/python3.6/site-packages/matplotlib/backend_bases.py\u001b[0m in \u001b[0;36mprint_figure\u001b[0;34m(self, filename, dpi, facecolor, edgecolor, orientation, format, bbox_inches, **kwargs)\u001b[0m\n\u001b[1;32m   2091\u001b[0m                     \u001b[0morientation\u001b[0m\u001b[0;34m=\u001b[0m\u001b[0morientation\u001b[0m\u001b[0;34m,\u001b[0m\u001b[0;34m\u001b[0m\u001b[0;34m\u001b[0m\u001b[0m\n\u001b[1;32m   2092\u001b[0m                     \u001b[0mbbox_inches_restore\u001b[0m\u001b[0;34m=\u001b[0m\u001b[0m_bbox_inches_restore\u001b[0m\u001b[0;34m,\u001b[0m\u001b[0;34m\u001b[0m\u001b[0;34m\u001b[0m\u001b[0m\n\u001b[0;32m-> 2093\u001b[0;31m                     **kwargs)\n\u001b[0m\u001b[1;32m   2094\u001b[0m             \u001b[0;32mfinally\u001b[0m\u001b[0;34m:\u001b[0m\u001b[0;34m\u001b[0m\u001b[0;34m\u001b[0m\u001b[0m\n\u001b[1;32m   2095\u001b[0m                 \u001b[0;32mif\u001b[0m \u001b[0mbbox_inches\u001b[0m \u001b[0;32mand\u001b[0m \u001b[0mrestore_bbox\u001b[0m\u001b[0;34m:\u001b[0m\u001b[0;34m\u001b[0m\u001b[0;34m\u001b[0m\u001b[0m\n",
      "\u001b[0;32m~/anaconda3/envs/py36/lib/python3.6/site-packages/matplotlib/cbook/deprecation.py\u001b[0m in \u001b[0;36mwrapper\u001b[0;34m(*args, **kwargs)\u001b[0m\n\u001b[1;32m    356\u001b[0m                 \u001b[0;34mf\"%(removal)s.  If any parameter follows {name!r}, they \"\u001b[0m\u001b[0;34m\u001b[0m\u001b[0;34m\u001b[0m\u001b[0m\n\u001b[1;32m    357\u001b[0m                 f\"should be pass as keyword, not positionally.\")\n\u001b[0;32m--> 358\u001b[0;31m         \u001b[0;32mreturn\u001b[0m \u001b[0mfunc\u001b[0m\u001b[0;34m(\u001b[0m\u001b[0;34m*\u001b[0m\u001b[0margs\u001b[0m\u001b[0;34m,\u001b[0m \u001b[0;34m**\u001b[0m\u001b[0mkwargs\u001b[0m\u001b[0;34m)\u001b[0m\u001b[0;34m\u001b[0m\u001b[0;34m\u001b[0m\u001b[0m\n\u001b[0m\u001b[1;32m    359\u001b[0m \u001b[0;34m\u001b[0m\u001b[0m\n\u001b[1;32m    360\u001b[0m     \u001b[0;32mreturn\u001b[0m \u001b[0mwrapper\u001b[0m\u001b[0;34m\u001b[0m\u001b[0;34m\u001b[0m\u001b[0m\n",
      "\u001b[0;32m~/anaconda3/envs/py36/lib/python3.6/site-packages/matplotlib/backends/backend_agg.py\u001b[0m in \u001b[0;36mprint_jpg\u001b[0;34m(self, filename_or_obj, dryrun, pil_kwargs, *args, **kwargs)\u001b[0m\n\u001b[1;32m    598\u001b[0m             \u001b[0mpil_kwargs\u001b[0m\u001b[0;34m.\u001b[0m\u001b[0msetdefault\u001b[0m\u001b[0;34m(\u001b[0m\u001b[0;34m\"dpi\"\u001b[0m\u001b[0;34m,\u001b[0m \u001b[0;34m(\u001b[0m\u001b[0mself\u001b[0m\u001b[0;34m.\u001b[0m\u001b[0mfigure\u001b[0m\u001b[0;34m.\u001b[0m\u001b[0mdpi\u001b[0m\u001b[0;34m,\u001b[0m \u001b[0mself\u001b[0m\u001b[0;34m.\u001b[0m\u001b[0mfigure\u001b[0m\u001b[0;34m.\u001b[0m\u001b[0mdpi\u001b[0m\u001b[0;34m)\u001b[0m\u001b[0;34m)\u001b[0m\u001b[0;34m\u001b[0m\u001b[0;34m\u001b[0m\u001b[0m\n\u001b[1;32m    599\u001b[0m             return background.save(\n\u001b[0;32m--> 600\u001b[0;31m                 filename_or_obj, format='jpeg', **pil_kwargs)\n\u001b[0m\u001b[1;32m    601\u001b[0m \u001b[0;34m\u001b[0m\u001b[0m\n\u001b[1;32m    602\u001b[0m         \u001b[0mprint_jpeg\u001b[0m \u001b[0;34m=\u001b[0m \u001b[0mprint_jpg\u001b[0m\u001b[0;34m\u001b[0m\u001b[0;34m\u001b[0m\u001b[0m\n",
      "\u001b[0;32m~/anaconda3/envs/py36/lib/python3.6/site-packages/PIL/Image.py\u001b[0m in \u001b[0;36msave\u001b[0;34m(self, fp, format, **params)\u001b[0m\n\u001b[1;32m   2132\u001b[0m \u001b[0;34m\u001b[0m\u001b[0m\n\u001b[1;32m   2133\u001b[0m         \u001b[0;32mtry\u001b[0m\u001b[0;34m:\u001b[0m\u001b[0;34m\u001b[0m\u001b[0;34m\u001b[0m\u001b[0m\n\u001b[0;32m-> 2134\u001b[0;31m             \u001b[0msave_handler\u001b[0m\u001b[0;34m(\u001b[0m\u001b[0mself\u001b[0m\u001b[0;34m,\u001b[0m \u001b[0mfp\u001b[0m\u001b[0;34m,\u001b[0m \u001b[0mfilename\u001b[0m\u001b[0;34m)\u001b[0m\u001b[0;34m\u001b[0m\u001b[0;34m\u001b[0m\u001b[0m\n\u001b[0m\u001b[1;32m   2135\u001b[0m         \u001b[0;32mfinally\u001b[0m\u001b[0;34m:\u001b[0m\u001b[0;34m\u001b[0m\u001b[0;34m\u001b[0m\u001b[0m\n\u001b[1;32m   2136\u001b[0m             \u001b[0;31m# do what we can to clean up\u001b[0m\u001b[0;34m\u001b[0m\u001b[0;34m\u001b[0m\u001b[0;34m\u001b[0m\u001b[0m\n",
      "\u001b[0;32m~/anaconda3/envs/py36/lib/python3.6/site-packages/PIL/JpegImagePlugin.py\u001b[0m in \u001b[0;36m_save\u001b[0;34m(im, fp, filename)\u001b[0m\n\u001b[1;32m    761\u001b[0m     \u001b[0mbufsize\u001b[0m \u001b[0;34m=\u001b[0m \u001b[0mmax\u001b[0m\u001b[0;34m(\u001b[0m\u001b[0mImageFile\u001b[0m\u001b[0;34m.\u001b[0m\u001b[0mMAXBLOCK\u001b[0m\u001b[0;34m,\u001b[0m \u001b[0mbufsize\u001b[0m\u001b[0;34m,\u001b[0m \u001b[0mlen\u001b[0m\u001b[0;34m(\u001b[0m\u001b[0mexif\u001b[0m\u001b[0;34m)\u001b[0m \u001b[0;34m+\u001b[0m \u001b[0;36m5\u001b[0m\u001b[0;34m,\u001b[0m \u001b[0mlen\u001b[0m\u001b[0;34m(\u001b[0m\u001b[0mextra\u001b[0m\u001b[0;34m)\u001b[0m \u001b[0;34m+\u001b[0m \u001b[0;36m1\u001b[0m\u001b[0;34m)\u001b[0m\u001b[0;34m\u001b[0m\u001b[0;34m\u001b[0m\u001b[0m\n\u001b[1;32m    762\u001b[0m \u001b[0;34m\u001b[0m\u001b[0m\n\u001b[0;32m--> 763\u001b[0;31m     \u001b[0mImageFile\u001b[0m\u001b[0;34m.\u001b[0m\u001b[0m_save\u001b[0m\u001b[0;34m(\u001b[0m\u001b[0mim\u001b[0m\u001b[0;34m,\u001b[0m \u001b[0mfp\u001b[0m\u001b[0;34m,\u001b[0m \u001b[0;34m[\u001b[0m\u001b[0;34m(\u001b[0m\u001b[0;34m\"jpeg\"\u001b[0m\u001b[0;34m,\u001b[0m \u001b[0;34m(\u001b[0m\u001b[0;36m0\u001b[0m\u001b[0;34m,\u001b[0m \u001b[0;36m0\u001b[0m\u001b[0;34m)\u001b[0m \u001b[0;34m+\u001b[0m \u001b[0mim\u001b[0m\u001b[0;34m.\u001b[0m\u001b[0msize\u001b[0m\u001b[0;34m,\u001b[0m \u001b[0;36m0\u001b[0m\u001b[0;34m,\u001b[0m \u001b[0mrawmode\u001b[0m\u001b[0;34m)\u001b[0m\u001b[0;34m]\u001b[0m\u001b[0;34m,\u001b[0m \u001b[0mbufsize\u001b[0m\u001b[0;34m)\u001b[0m\u001b[0;34m\u001b[0m\u001b[0;34m\u001b[0m\u001b[0m\n\u001b[0m\u001b[1;32m    764\u001b[0m \u001b[0;34m\u001b[0m\u001b[0m\n\u001b[1;32m    765\u001b[0m \u001b[0;34m\u001b[0m\u001b[0m\n",
      "\u001b[0;32m~/anaconda3/envs/py36/lib/python3.6/site-packages/PIL/ImageFile.py\u001b[0m in \u001b[0;36m_save\u001b[0;34m(im, fp, tile, bufsize)\u001b[0m\n\u001b[1;32m    526\u001b[0m                 \u001b[0ml\u001b[0m\u001b[0;34m,\u001b[0m \u001b[0ms\u001b[0m \u001b[0;34m=\u001b[0m \u001b[0me\u001b[0m\u001b[0;34m.\u001b[0m\u001b[0mencode_to_pyfd\u001b[0m\u001b[0;34m(\u001b[0m\u001b[0;34m)\u001b[0m\u001b[0;34m\u001b[0m\u001b[0;34m\u001b[0m\u001b[0m\n\u001b[1;32m    527\u001b[0m             \u001b[0;32melse\u001b[0m\u001b[0;34m:\u001b[0m\u001b[0;34m\u001b[0m\u001b[0;34m\u001b[0m\u001b[0m\n\u001b[0;32m--> 528\u001b[0;31m                 \u001b[0ms\u001b[0m \u001b[0;34m=\u001b[0m \u001b[0me\u001b[0m\u001b[0;34m.\u001b[0m\u001b[0mencode_to_file\u001b[0m\u001b[0;34m(\u001b[0m\u001b[0mfh\u001b[0m\u001b[0;34m,\u001b[0m \u001b[0mbufsize\u001b[0m\u001b[0;34m)\u001b[0m\u001b[0;34m\u001b[0m\u001b[0;34m\u001b[0m\u001b[0m\n\u001b[0m\u001b[1;32m    529\u001b[0m             \u001b[0;32mif\u001b[0m \u001b[0ms\u001b[0m \u001b[0;34m<\u001b[0m \u001b[0;36m0\u001b[0m\u001b[0;34m:\u001b[0m\u001b[0;34m\u001b[0m\u001b[0;34m\u001b[0m\u001b[0m\n\u001b[1;32m    530\u001b[0m                 \u001b[0;32mraise\u001b[0m \u001b[0mOSError\u001b[0m\u001b[0;34m(\u001b[0m\u001b[0;34m\"encoder error %d when writing image file\"\u001b[0m \u001b[0;34m%\u001b[0m \u001b[0ms\u001b[0m\u001b[0;34m)\u001b[0m\u001b[0;34m\u001b[0m\u001b[0;34m\u001b[0m\u001b[0m\n",
      "\u001b[0;31mKeyboardInterrupt\u001b[0m: "
     ]
    },
    {
     "data": {
      "image/png": "[encoded data removed]",
      "text/plain": [
       "<Figure size 1200x1200 with 1 Axes>"
      ]
     },
     "metadata": {},
     "output_type": "display_data"
    }
   ],
   "source": [
    "if __name__==\"__main__\":\n",
    "    main()\n",
    "    print(\"100% Complete\")"
   ]
  }
 ],
 "metadata": {
  "colab": {
   "name": "1.preprocessing_data.ipynb",
   "provenance": []
  },
  "kernelspec": {
   "display_name": "Python 3",
   "language": "python",
   "name": "python3"
  },
  "language_info": {
   "codemirror_mode": {
    "name": "ipython",
    "version": 3
   },
   "file_extension": ".py",
   "mimetype": "text/x-python",
   "name": "python",
   "nbconvert_exporter": "python",
   "pygments_lexer": "ipython3",
   "version": "3.6.10"
  }
 },
 "nbformat": 4,
 "nbformat_minor": 1
}
